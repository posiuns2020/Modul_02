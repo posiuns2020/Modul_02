Hei namaku Rizky Indra Maulana dari kelas D Teknik Industri Universitas Sebelas Maret angkatan 2022
